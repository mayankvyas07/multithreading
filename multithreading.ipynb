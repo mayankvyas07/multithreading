{
 "cells": [
  {
   "cell_type": "code",
   "execution_count": null,
   "id": "57dc9544",
   "metadata": {},
   "outputs": [],
   "source": [
    "\n",
    "Multithreading in Python:\n",
    "Multithreading is a technique in which multiple threads within a single process execute concurrently, sharing the same memory space. It allows a program to efficiently utilize multiple CPU cores for parallel execution, thereby potentially improving performance in tasks that can be parallelized. Python provides a threading module to handle threads.\n",
    "Threading Module and Functions:\n",
    "threading Module: This module is used for creating and managing threads in Python.\n",
    "Functions:\n",
    "activeCount(): Returns the number of Thread objects currently alive.\n",
    "currentThread(): Returns the current Thread object, corresponding to the caller's thread of control.\n",
    "enumerate(): Returns a list of all Thread objects currently alive.\n",
    "Thread Functions:\n",
    "run(): This method is the entry point for the thread's activity. You can override this method in a subclass to define the code that will run in the thread.\n",
    "start(): This method starts the thread's activity. It invokes the run() method.\n",
    "join(): This method blocks the calling thread until the thread whose join() method is called is terminated.\n",
    "isAlive(): This method returns True if the thread is alive (started but not terminated), otherwise False.\n",
    "Python Program with Two Threads:\n",
    "Here's an example program that creates two threads, where one thread prints a list of squares and the other prints a list of cubes:\n",
    "python\n",
    "Copy code\n",
    "import threading\n",
    "\n",
    "def print_squares():\n",
    "    for i in range(1, 6):\n",
    "        print(f\"Square of {i}: {i ** 2}\")\n",
    "\n",
    "def print_cubes():\n",
    "    for i in range(1, 6):\n",
    "        print(f\"Cube of {i}: {i ** 3}\")\n",
    "\n",
    "if __name__ == \"__main__\":\n",
    "    thread1 = threading.Thread(target=print_squares)\n",
    "    thread2 = threading.Thread(target=print_cubes)\n",
    "\n",
    "    thread1.start()\n",
    "    thread2.start()\n",
    "\n",
    "    thread1.join()\n",
    "    thread2.join()\n",
    "\n",
    "    print(\"Both threads have finished\")\n",
    "Advantages and Disadvantages of Multithreading:\n",
    "Advantages:\n",
    "Improved performance through parallel execution.\n",
    "Efficient use of CPU cores for CPU-bound tasks.\n",
    "Simplified code for concurrent programming tasks.\n",
    "Disadvantages:\n",
    "Increased complexity due to potential race conditions and deadlocks.\n",
    "Global Interpreter Lock (GIL) in CPython prevents true parallel execution for CPU-bound tasks.\n",
    "Debugging multithreaded programs can be challenging.\n",
    "Deadlocks and Race Conditions:\n",
    "Deadlock: A deadlock occurs when two or more threads are blocked, each waiting for a resource that's held by another thread in the same group. This results in a situation where none of the threads can proceed. Deadlocks often happen due to improper resource management and synchronization.\n",
    "Race Condition: A race condition occurs when the behavior of a program depends on the relative timing of events, like the order in which threads are scheduled to run. It leads to unpredictable outcomes because the threads are \"racing\" to access shared resources without proper synchronization, leading to incorrect results or crashes.\n",
    "Both deadlocks and race conditions are common issues in multithreaded programming and require careful synchronization and resource management to be avoi"
   ]
  }
 ],
 "metadata": {
  "kernelspec": {
   "display_name": "Python 3 (ipykernel)",
   "language": "python",
   "name": "python3"
  },
  "language_info": {
   "codemirror_mode": {
    "name": "ipython",
    "version": 3
   },
   "file_extension": ".py",
   "mimetype": "text/x-python",
   "name": "python",
   "nbconvert_exporter": "python",
   "pygments_lexer": "ipython3",
   "version": "3.9.13"
  }
 },
 "nbformat": 4,
 "nbformat_minor": 5
}
